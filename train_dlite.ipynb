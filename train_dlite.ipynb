{
 "cells": [
  {
   "attachments": {},
   "cell_type": "markdown",
   "metadata": {},
   "source": [
    "# Training DLite\n",
    "\n",
    "This notebook fine-tunes the smallest GPT2 model on the `databricks-dolly-15k` dataset, thus training the `dlite-v2-124m` model."
   ]
  },
  {
   "cell_type": "code",
   "execution_count": null,
   "metadata": {},
   "outputs": [],
   "source": [
    "% pip install -r requirements.txt\n",
    "! sh setup.sh"
   ]
  },
  {
   "cell_type": "code",
   "execution_count": null,
   "metadata": {},
   "outputs": [],
   "source": [
    "%load_ext autoreload\n",
    "%autoreload 2"
   ]
  },
  {
   "cell_type": "code",
   "execution_count": null,
   "metadata": {},
   "outputs": [],
   "source": [
    "from train.utils import create_response, load_model_and_tokenizer, DEFAULT_MAX_LENGTH, DATASET\n",
    "import datetime as dt\n",
    "import mlflow\n",
    "import os"
   ]
  },
  {
   "cell_type": "code",
   "execution_count": null,
   "metadata": {},
   "outputs": [],
   "source": [
    "# Assign the output directory and create it\n",
    "output_dir = os.path.join(os.path.expanduser('~'), '_'.join(['DLite124m', '_'.join(str(dt.datetime.now()).split()).replace(':', '-')]))\n",
    "print(f'Output path: {output_dir}')\n",
    "if not os.path.exists(output_dir):\n",
    "    os.makedirs(output_dir)\n",
    "\n",
    "epochs = 10\n",
    "train_batch_size = 16\n",
    "eval_batch_size = 16\n",
    "lr = 1e-5\n",
    "model_id = 'gpt2'\n",
    "deepspeed_config = './deepspeed_config.json'\n",
    "max_length = DEFAULT_MAX_LENGTH\n",
    "dataset = DATASET"
   ]
  },
  {
   "cell_type": "code",
   "execution_count": null,
   "metadata": {},
   "outputs": [],
   "source": [
    "%load_ext tensorboard\n",
    "%tensorboard --logdir '{output_dir}/runs'"
   ]
  },
  {
   "cell_type": "code",
   "execution_count": null,
   "metadata": {},
   "outputs": [],
   "source": [
    "# Run the train script\n",
    "! deepspeed ./train/train.py \\\n",
    "    {output_dir} \\\n",
    "    -e {epochs} \\\n",
    "    --train-batch-size {train_batch_size} \\\n",
    "    --eval-batch-size {eval_batch_size} \\\n",
    "    --lr {lr} \\\n",
    "    --gradient-checkpointing \\\n",
    "    --cuda \\\n",
    "    -m {model_id} \\\n",
    "    --deepspeed {deepspeed_config} \\\n",
    "    --local_rank True \\\n",
    "    --fp16 \\\n",
    "    --max-length {max_length} \\\n",
    "    --dataset {dataset}\n"
   ]
  },
  {
   "cell_type": "code",
   "execution_count": null,
   "metadata": {},
   "outputs": [],
   "source": [
    "# Load the saved model and tokenizer\n",
    "model, tokenizer = load_model_and_tokenizer(output_dir)\n",
    "\n",
    "# Set of example prompts\n",
    "eval_prompts = [\n",
    "    'Write a tweet announcing DLite, a large language model from AI Squared.',\n",
    "    'Write a poem.',\n",
    "    'How many legs do dogs typically have?',\n",
    "    'Explain the concept of deep learning.'\n",
    "]\n",
    "\n",
    "# Ask DLite to answer the prompts listed above\n",
    "for prompt in eval_prompts:\n",
    "    response = create_response(prompt, model = model, tokenizer = tokenizer, device = 'cuda')\n",
    "    print(f'Prompt: {prompt}\\n\\n{response}\\n\\n-----------\\n')\n",
    "\n",
    "# Log the model with mlflow\n",
    "with mlflow.start_run():\n",
    "    mlflow.log_params(\n",
    "        {\n",
    "            'base_model': model_id,\n",
    "            'dataset': dataset,\n",
    "            'epochs': epochs,\n",
    "            'lr': lr,\n",
    "            'train batch size': train_batch_size,\n",
    "            'eval batch size': eval_batch_size,\n",
    "            'max length': max_length\n",
    "        }\n",
    "    )\n",
    "    mlflow.transformers.log_model(\n",
    "        transformers_model = {\n",
    "            'model': model,\n",
    "            'tokenizer': tokenizer\n",
    "        },\n",
    "        artifact_path = 'dlite-v2-124m'\n",
    "    )"
   ]
  }
 ],
 "metadata": {
  "kernelspec": {
   "display_name": "base",
   "language": "python",
   "name": "python3"
  },
  "language_info": {
   "codemirror_mode": {
    "name": "ipython",
    "version": 3
   },
   "file_extension": ".py",
   "mimetype": "text/x-python",
   "name": "python",
   "nbconvert_exporter": "python",
   "pygments_lexer": "ipython3",
   "version": "3.9.16"
  },
  "orig_nbformat": 4
 },
 "nbformat": 4,
 "nbformat_minor": 2
}
