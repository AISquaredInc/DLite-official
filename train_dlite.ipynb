{
 "cells": [
  {
   "attachments": {},
   "cell_type": "markdown",
   "metadata": {},
   "source": [
    "# Training DLite\n",
    "\n",
    "This notebook fine-tunes the smallest GPT2 model on the `databricks-dolly-15k` dataset.\n",
    "\n",
    "Please note the license requirements for both GPT2 and the Alpaca dataset."
   ]
  },
  {
   "cell_type": "code",
   "execution_count": null,
   "metadata": {},
   "outputs": [],
   "source": [
    "! pip install -r requirements.txt\n",
    "! sh setup.sh"
   ]
  },
  {
   "cell_type": "code",
   "execution_count": null,
   "metadata": {},
   "outputs": [],
   "source": [
    "from train.utils import train, create_response, load_model_and_tokenizer, SEED\n",
    "import datetime as dt\n",
    "import os"
   ]
  },
  {
   "cell_type": "code",
   "execution_count": null,
   "metadata": {},
   "outputs": [],
   "source": [
    "# Assign the output directory and create it\n",
    "output_dir = os.path.join(os.path.expanduser('~'), '_'.join(['DLite124m', '_'.join(str(dt.datetime.now()).split()).replace(':', '-')]))\n",
    "print(f'Output path: {output_dir}')\n",
    "if not os.path.exists(output_dir):\n",
    "    os.makedirs(output_dir)"
   ]
  },
  {
   "cell_type": "code",
   "execution_count": null,
   "metadata": {},
   "outputs": [],
   "source": [
    "# Run the train function\n",
    "train(\n",
    "    output_dir,\n",
    "    epochs = 10,\n",
    "    train_batch_size = 16,\n",
    "    eval_batch_size = 16,\n",
    "    lr = 1e-5,\n",
    "    seed = SEED,\n",
    "    gradient_checkpointing = True,\n",
    "    cuda = True,\n",
    "    fsdp = True\n",
    ")"
   ]
  },
  {
   "cell_type": "code",
   "execution_count": null,
   "metadata": {},
   "outputs": [],
   "source": [
    "# Load the saved model and tokenizer\n",
    "model, tokenizer = load_model_and_tokenizer(output_dir)\n",
    "\n",
    "# Set of example prompts\n",
    "eval_prompts = [\n",
    "    'Write a tweet announcing DLite, a large language model from AI Squared.',\n",
    "    'Write a poem.',\n",
    "    'How many legs do dogs typically have?',\n",
    "    'Explain the concept of deep learning.'\n",
    "]\n",
    "\n",
    "# Ask DLite to answer the prompts listed above\n",
    "for prompt in eval_prompts:\n",
    "    response = create_response(prompt, model = model, tokenizer = tokenizer)\n",
    "    print(f'Prompt: {prompt}\\n\\n{response}\\n\\n-----------\\n')"
   ]
  }
 ],
 "metadata": {
  "kernelspec": {
   "display_name": "base",
   "language": "python",
   "name": "python3"
  },
  "language_info": {
   "codemirror_mode": {
    "name": "ipython",
    "version": 3
   },
   "file_extension": ".py",
   "mimetype": "text/x-python",
   "name": "python",
   "nbconvert_exporter": "python",
   "pygments_lexer": "ipython3",
   "version": "3.10.10"
  },
  "orig_nbformat": 4
 },
 "nbformat": 4,
 "nbformat_minor": 2
}
